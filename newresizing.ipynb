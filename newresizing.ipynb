{
 "cells": [
  {
   "cell_type": "code",
   "execution_count": 2,
   "id": "2e1d8b46",
   "metadata": {},
   "outputs": [],
   "source": [
    "\n",
    "from PIL import Image\n",
    "import os\n",
    "\n",
    "# set the new size for the images\n",
    "new_size = (600,600)\n",
    "\n",
    "# set the path to the directory containing the images\n",
    "image_dir = 'output_images-20230413T135904Z-001/output_images/'\n",
    "\n",
    "# set the path to the directory to save the resized images\n",
    "output_dir = 'resz/'\n",
    "\n",
    "# loop through each image in the directory\n",
    "for filename in os.listdir(image_dir):\n",
    "    # open the image\n",
    "    image_path = os.path.join(image_dir, filename)\n",
    "    with Image.open(image_path) as img:\n",
    "        img = img.resize(new_size)\n",
    "        \n",
    "        # save the resized image to the output directory with the same filename\n",
    "        output_path = os.path.join(output_dir, filename)\n",
    "        img.save(output_path)"
   ]
  }
 ],
 "metadata": {
  "kernelspec": {
   "display_name": "Python 3 (ipykernel)",
   "language": "python",
   "name": "python3"
  },
  "language_info": {
   "codemirror_mode": {
    "name": "ipython",
    "version": 3
   },
   "file_extension": ".py",
   "mimetype": "text/x-python",
   "name": "python",
   "nbconvert_exporter": "python",
   "pygments_lexer": "ipython3",
   "version": "3.10.9"
  }
 },
 "nbformat": 4,
 "nbformat_minor": 5
}
