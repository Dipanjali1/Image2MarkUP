{
 "cells": [
  {
   "cell_type": "code",
   "execution_count": 1,
   "id": "bc1a73ae",
   "metadata": {},
   "outputs": [],
   "source": [
    "import os\n",
    "from PIL import Image"
   ]
  },
  {
   "cell_type": "code",
   "execution_count": 12,
   "id": "0cfbbd60",
   "metadata": {},
   "outputs": [],
   "source": [
    "import cv2\n",
    "import os\n",
    "input_path = \"input_images\"\n",
    "output_path = \"output_images\"\n",
    "max_size = 600\n",
    "for filename in os.listdir(input_path):\n",
    "    image = cv2.imread(os.path.join(input_path,filename))\n",
    "    height, width = image.shape[:2]\n",
    "    aspect_ratio = width / height\n",
    "    if height > width:\n",
    "        new_height = max_size\n",
    "        new_width = int(new_height * aspect_ratio)\n",
    "    else:\n",
    "        new_width = max_size\n",
    "        new_height = int(new_width / aspect_ratio)\n",
    "    resized_image = cv2.resize(image, (new_width, new_height))\n",
    "    cv2.imwrite(os.path.join(output_path,filename),resized_image)"
   ]
  },
  {
   "cell_type": "code",
   "execution_count": null,
   "id": "46d1ca97",
   "metadata": {},
   "outputs": [],
   "source": []
  }
 ],
 "metadata": {
  "kernelspec": {
   "display_name": "Python 3 (ipykernel)",
   "language": "python",
   "name": "python3"
  },
  "language_info": {
   "codemirror_mode": {
    "name": "ipython",
    "version": 3
   },
   "file_extension": ".py",
   "mimetype": "text/x-python",
   "name": "python",
   "nbconvert_exporter": "python",
   "pygments_lexer": "ipython3",
   "version": "3.10.9"
  }
 },
 "nbformat": 4,
 "nbformat_minor": 5
}
